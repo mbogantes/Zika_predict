{
  "nbformat": 4,
  "nbformat_minor": 0,
  "metadata": {
    "colab": {
      "name": "Datos climatologicos.ipynb",
      "version": "0.3.2",
      "provenance": [],
      "collapsed_sections": [],
      "include_colab_link": true
    },
    "kernelspec": {
      "name": "python3",
      "display_name": "Python 3"
    }
  },
  "cells": [
    {
      "cell_type": "markdown",
      "metadata": {
        "id": "view-in-github",
        "colab_type": "text"
      },
      "source": [
        "<a href=\"https://colab.research.google.com/github/mbogantes/Zika_predict/blob/master/Datos_climatologicos.ipynb\" target=\"_parent\"><img src=\"https://colab.research.google.com/assets/colab-badge.svg\" alt=\"Open In Colab\"/></a>"
      ]
    },
    {
      "cell_type": "markdown",
      "metadata": {
        "id": "Bk_O7qIkt-yT",
        "colab_type": "text"
      },
      "source": [
        "Extracción de resultados de precipitación global de NASA\n",
        "\n",
        "Los datos de precipitación se pueden accesar a partir del año 2001 en el sitio :\n",
        "ftp://jsimpson.pps.eosdis.nasa.gov/data/imerg/gis/\n",
        "\n",
        "Para ingresar se debe registrar previamente en el siguiente link:\n",
        "\n",
        "http://registration.pps.eosdis.nasa.gov/registration/​ \n",
        "\n",
        "El usuario y la contraseña son iguales y corresponden al email que se ingresa en esa página. Hay diferentes tipos de archivos, los archivos .tif son los que contienen la información de precipitación. Para leerlos pueden usar el siguiente código, el cual está programado para hemisferio norte y longitud oeste, si desean leer datos de otros lugares tienen que cambiar el cálculo de la última línea:\n"
      ]
    },
    {
      "cell_type": "code",
      "metadata": {
        "id": "0WF6Bh23RgZE",
        "colab_type": "code",
        "colab": {}
      },
      "source": [
        "def get_data(archivo,z,y):\n",
        "    \"\"\"Toma datos de un archivo y retorna la lectura en las coordenadas z (longitud) y y (latitud)\"\"\"\n",
        "    import gdal\n",
        "    import gdalconst\n",
        "    import numpy\n",
        "\n",
        "    filename = str(archivo)\n",
        "\n",
        "    dataset = gdal.Open(filename, gdalconst.GA_ReadOnly)\n",
        "  \n",
        "    band = dataset.GetRasterBand(1)\n",
        "    data = band.ReadAsArray(0, 0, dataset.RasterXSize, dataset.RasterYSize).astype(numpy.float)\n",
        "    \n",
        "    ## Esta funcion solo sirve para datos del hemisferio norte y longitud oeste.\n",
        "    return data[(180 + (int(y)*10)), int(90-(int(z)*10))]"
      ],
      "execution_count": 0,
      "outputs": []
    },
    {
      "cell_type": "markdown",
      "metadata": {
        "id": "fS-8RQJlvrVX",
        "colab_type": "text"
      },
      "source": [
        "Si se desea bajar archivos en masa se puede implementar un código que lo haga automáticamente usando el paquete wget de python"
      ]
    },
    {
      "cell_type": "code",
      "metadata": {
        "id": "ZNmYjxqBpArs",
        "colab_type": "code",
        "colab": {}
      },
      "source": [
        "!pip install wget"
      ],
      "execution_count": 0,
      "outputs": []
    },
    {
      "cell_type": "markdown",
      "metadata": {
        "id": "iQyH_JKIwJbN",
        "colab_type": "text"
      },
      "source": [
        "Ahora podemos descargar los datos que queremos."
      ]
    },
    {
      "cell_type": "code",
      "metadata": {
        "id": "B6sRNnG3UGib",
        "colab_type": "code",
        "colab": {}
      },
      "source": [
        "credentials = \"usuario\" + \":\" + \"contraseña\" \n",
        "\n",
        "num_dias=[31,28,31,30,31,30,31,31,30,31,30,31]\n",
        "#mes=range(1,13)  \n",
        "#year=range(2001,2019)\n",
        "# solo se va a usar el mes de enero de 2012 para que no sea demasiado larga la ejecucion\n",
        "mes=range(1,2)\n",
        "year=range(2012,2013)\n",
        "\n",
        "import wget\n",
        "\n",
        "for i in year:\n",
        "    for j in mes:\n",
        "        dias = num_dias[j-1]\n",
        "        for k in range(1,dias+1):\n",
        "            mes_format = str(\"{:0>2}\".format(j))\n",
        "            dia_format = str(\"{:0>2}\".format(k))\n",
        "            path= (\"jsimpson.pps.eosdis.nasa.gov/data/imerg/gis/\" + \n",
        "            str(i) + \"/\" + mes_format + \"/3B-HHR-L.MS.MRG.3IMERG.\" + \n",
        "            str(i) + mes_format + dia_format + \n",
        "            \"-S023000-E025959.0150.V06B.1day.tif\")\n",
        "            \n",
        "            wget.download(\"ftp://\"+credentials+\"@\"+path)\n",
        "                "
      ],
      "execution_count": 0,
      "outputs": []
    },
    {
      "cell_type": "markdown",
      "metadata": {
        "id": "uLnG7RPXwlA1",
        "colab_type": "text"
      },
      "source": [
        "Luego podemos leer los datos de los archivos descargados y hacer un grafico de precipitacion en Guanacaste para ese mes. Los archivos tienen una resolucion de 0.1 x 0.1 grados "
      ]
    },
    {
      "cell_type": "code",
      "metadata": {
        "id": "1QGOtxdzrTEQ",
        "colab_type": "code",
        "colab": {}
      },
      "source": [
        "dates=[]\n",
        "values=[]\n",
        "for i in year:\n",
        "    for j in mes:\n",
        "        dias = num_dias[j-1]\n",
        "        for k in range(1,dias+1):\n",
        "            mes_format = str(\"{:0>2}\".format(j))\n",
        "            dia_format = str(\"{:0>2}\".format(k))\n",
        "            file= (\"3B-HHR-L.MS.MRG.3IMERG.\" + \n",
        "            str(i) + mes_format + dia_format + \n",
        "            \"-S023000-E025959.0150.V06B.1day.tif\")\n",
        "            \n",
        "            today= dia_format+\"-\" + mes_format+\"-\"+str(i)\n",
        "            dates.append(today)\n",
        "            values.append(get_data(file,10.4,85.4))\n",
        "            \n",
        "            "
      ],
      "execution_count": 0,
      "outputs": []
    },
    {
      "cell_type": "code",
      "metadata": {
        "id": "K3KO0a1gpsAf",
        "colab_type": "code",
        "colab": {
          "base_uri": "https://localhost:8080/",
          "height": 348
        },
        "outputId": "b0b2e986-b40f-4bc3-f053-53b24ca7ccf4"
      },
      "source": [
        "\n",
        "import matplotlib.pyplot as plt\n",
        "%matplotlib inline\n",
        "\n",
        "plt.plot(dates, values, label=\"Precipitación\")\n",
        "plt.ylabel(\"mm de lluvia\")\n",
        "plt.xlabel(\"Fecha\")\n",
        "plt.xticks(rotation=90)\n",
        "plt.legend()"
      ],
      "execution_count": 13,
      "outputs": [
        {
          "output_type": "execute_result",
          "data": {
            "text/plain": [
              "<matplotlib.legend.Legend at 0x7f51e2cfae80>"
            ]
          },
          "metadata": {
            "tags": []
          },
          "execution_count": 13
        },
        {
          "output_type": "display_data",
          "data": {
            "image/png": "[encoded data removed]",
            "text/plain": [
              "<Figure size 432x288 with 1 Axes>"
            ]
          },
          "metadata": {
            "tags": []
          }
        }
      ]
    }
  ]
}